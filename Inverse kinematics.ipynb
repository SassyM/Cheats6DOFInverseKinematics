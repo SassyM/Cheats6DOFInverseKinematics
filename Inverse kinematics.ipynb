{
 "cells": [
  {
   "cell_type": "markdown",
   "id": "68b0dd7f-c33b-4ffe-9bc8-94994eb682f0",
   "metadata": {
    "tags": []
   },
   "source": [
    "6DOF Inverse Kinematics using IKPY\n",
    "==================================\n",
    "\n",
    "This is a demo of how to use IKPY to move a 6DOF robot arm.\n",
    "\n",
    "Please don't comment and tell me how rubbish this code is, it's meant to demonstrate how easy this is to use, not to show off mad Python skills.\n",
    "\n",
    "We'll start by importing all our libraries"
   ]
  },
  {
   "cell_type": "code",
   "execution_count": 10,
   "id": "6960c61f-ba83-4d4a-846f-d40473ccbee0",
   "metadata": {},
   "outputs": [],
   "source": [
    "import ikpy.chain\n",
    "import ikpy.utils.plot as plot_utils\n",
    "\n",
    "import numpy as np\n",
    "import time\n",
    "import math\n",
    "\n",
    "import ipywidgets as widgets\n",
    "import serial"
   ]
  },
  {
   "cell_type": "markdown",
   "id": "4499d685-9797-4ef7-abba-9fe145c9f555",
   "metadata": {},
   "source": [
    "Now, we can import our robot arm model from the URDF file. The first link is the link between the desk and the base, so we set it to inactive"
   ]
  },
  {
   "cell_type": "code",
   "execution_count": 11,
   "id": "3224c696-c8b6-4599-91b6-62205a08963e",
   "metadata": {
    "tags": []
   },
   "outputs": [],
   "source": [
    "my_chain = ikpy.chain.Chain.from_urdf_file(\"arm_urdf.urdf\",active_links_mask=[False, True, True, True, True, True, True])"
   ]
  },
  {
   "cell_type": "code",
   "execution_count": 12,
   "id": "2cdaddaf",
   "metadata": {},
   "outputs": [
    {
     "data": {
      "text/plain": [
       "[Link name=Base link bounds=(-inf, inf),\n",
       " URDF Link base_joint :\n",
       "     Type : revolute\n",
       "     Bounds : (-inf, inf)\n",
       "     Origin Translation : [0.    0.    0.072]\n",
       "     Origin Orientation : [0. 0. 0.]\n",
       "     Rotation : [ 0.  0. -1.]\n",
       "     Translation: None,\n",
       " URDF Link shoulder_joint :\n",
       "     Type : revolute\n",
       "     Bounds : (-1.57, 1.57)\n",
       "     Origin Translation : [0.    0.    0.027]\n",
       "     Origin Orientation : [0. 0. 0.]\n",
       "     Rotation : [1. 0. 0.]\n",
       "     Translation: None,\n",
       " URDF Link elbow_joint :\n",
       "     Type : revolute\n",
       "     Bounds : (-1.92, 1.92)\n",
       "     Origin Translation : [0.    0.    0.238]\n",
       "     Origin Orientation : [0. 0. 0.]\n",
       "     Rotation : [1. 0. 0.]\n",
       "     Translation: None,\n",
       " URDF Link rot_joint :\n",
       "     Type : revolute\n",
       "     Bounds : (-1.57, 2.8)\n",
       "     Origin Translation : [0.   0.   0.15]\n",
       "     Origin Orientation : [0. 0. 0.]\n",
       "     Rotation : [ 0.  0. -1.]\n",
       "     Translation: None,\n",
       " URDF Link tilt_joint :\n",
       "     Type : revolute\n",
       "     Bounds : (-1.78, 0.48)\n",
       "     Origin Translation : [0.    0.    0.045]\n",
       "     Origin Orientation : [0. 0. 0.]\n",
       "     Rotation : [-1.  0.  0.]\n",
       "     Translation: None,\n",
       " URDF Link rot2_joint :\n",
       "     Type : revolute\n",
       "     Bounds : (-2.88, 2.1)\n",
       "     Origin Translation : [0.    0.    0.045]\n",
       "     Origin Orientation : [0. 0. 0.]\n",
       "     Rotation : [0. 0. 1.]\n",
       "     Translation: None]"
      ]
     },
     "execution_count": 12,
     "metadata": {},
     "output_type": "execute_result"
    }
   ],
   "source": [
    "my_chain.links"
   ]
  },
  {
   "cell_type": "markdown",
   "id": "2e5209f2",
   "metadata": {},
   "source": [
    "Setting initial position of the robot's end effector"
   ]
  },
  {
   "cell_type": "code",
   "execution_count": 29,
   "id": "11369d14",
   "metadata": {},
   "outputs": [
    {
     "name": "stdout",
     "output_type": "stream",
     "text": [
      "Current position is: [0.    0.    0.577]\n",
      "Current orientation is: \n",
      " [[1. 0. 0.]\n",
      " [0. 1. 0.]\n",
      " [0. 0. 1.]]\n"
     ]
    }
   ],
   "source": [
    "joint_angles = [0, 0, 0, 0, 0, 0, 0]\n",
    "current_position = my_chain.forward_kinematics(joint_angles)[:3, 3]\n",
    "current_orientation = my_chain.forward_kinematics(joint_angles)[:3, :3]\n",
    "print(\"Current position is:\", current_position)\n",
    "print(\"Current orientation is: \\n\", current_orientation)"
   ]
  },
  {
   "cell_type": "markdown",
   "id": "ee625637-afd4-459e-a0da-87738125f6da",
   "metadata": {},
   "source": [
    "And set the initial position and orientation of the last joint"
   ]
  },
  {
   "cell_type": "code",
   "execution_count": 14,
   "id": "2cdfa64b-2194-4ad3-a61b-5a5439477b68",
   "metadata": {},
   "outputs": [],
   "source": [
    "target_position = [ 0, 0,0.58]\n",
    "\n",
    "target_orientation = [-1, 0, 0]"
   ]
  },
  {
   "cell_type": "markdown",
   "id": "1d1c3e01-d7e4-453d-9947-24f372cd77d0",
   "metadata": {},
   "source": [
    "It's now just one call to work out he inverse kinematics for that position. Again, the first angle is of the inactive joint between the desk and the base so is always 0"
   ]
  },
  {
   "cell_type": "code",
   "execution_count": 28,
   "id": "36b9cc08-93e7-4890-a8bc-4a825c87daa7",
   "metadata": {
    "tags": []
   },
   "outputs": [
    {
     "name": "stdout",
     "output_type": "stream",
     "text": [
      "[ 0.00000000e+00 -1.18154028e+00  6.24014448e-06 -1.37402782e-05\n",
      " -1.66518851e-01 -7.11842181e-06  2.22737196e-01]\n",
      "The angles of each joints in degrees are :  [0.0, -67.69727140541436, 0.000357533942384746, -0.0007872599485932972, -9.540827347836096, -0.0004078555264448544, 12.761901246574476]\n"
     ]
    }
   ],
   "source": [
    "ik = my_chain.inverse_kinematics(target_position, target_orientation, orientation_mode=\"Y\")\n",
    "print(ik)\n",
    "ik_degrees =  [math.degrees(angle) for angle in ik]\n",
    "print(\"The angles of each joints in degrees are : \", ik_degrees)"
   ]
  },
  {
   "cell_type": "markdown",
   "id": "7ecfb30c-0586-4bce-bbc8-2e13d5e5092d",
   "metadata": {},
   "source": [
    "We can see that actual position our robot will move to. This may be different to _target_position_ as the arm may not be physically able to reach that position"
   ]
  },
  {
   "cell_type": "code",
   "execution_count": 16,
   "id": "55196648-c86d-4a51-9d54-8a6a53f8ad1d",
   "metadata": {
    "tags": []
   },
   "outputs": [
    {
     "name": "stdout",
     "output_type": "stream",
     "text": [
      "Computed position: [2.10935041e-08 4.87354762e-08 5.77000000e-01], original position : [0, 0, 0.58]\n",
      "Computed position (readable) : ['0.00', '0.00', '0.58']\n"
     ]
    }
   ],
   "source": [
    "computed_position = my_chain.forward_kinematics(ik)\n",
    "print(\"Computed position: %s, original position : %s\" % (computed_position[:3, 3], target_position))\n",
    "print(\"Computed position (readable) : %s\" % [ '%.2f' % elem for elem in computed_position[:3, 3] ])"
   ]
  },
  {
   "cell_type": "markdown",
   "id": "4b7f5b63-2a4d-4e92-a6e2-95fda2ba08ef",
   "metadata": {},
   "source": [
    "Now, lets visualise what our arm looks"
   ]
  },
  {
   "cell_type": "code",
   "execution_count": 22,
   "id": "4f5c7493-cb46-452c-bdcf-5852c679b601",
   "metadata": {
    "tags": []
   },
   "outputs": [
    {
     "data": {
      "image/png": "[encoded data removed]",
      "text/plain": [
       "<Figure size 640x480 with 1 Axes>"
      ]
     },
     "metadata": {},
     "output_type": "display_data"
    },
    {
     "data": {
      "text/plain": [
       "<contextlib.ExitStack at 0x229a0a62cd0>"
      ]
     },
     "execution_count": 22,
     "metadata": {},
     "output_type": "execute_result"
    }
   ],
   "source": [
    "%matplotlib inline\n",
    "import matplotlib.pyplot as plt\n",
    "import ikpy.utils.plot as plot_utils\n",
    "fig, ax = plot_utils.init_3d_figure()\n",
    "# ax.legend()\n",
    "# fig.set_figheight(9)  \n",
    "# fig.set_figwidth(13)  \n",
    "# my_chain.plot(ik, ax, target=target_position)\n",
    "# plt.xlim(-0.5, 0.5)\n",
    "# plt.ylim(-0.5, 0.5)\n",
    "# ax.set_zlim(0, 0.6)\n",
    "# ax = plt.figure().add_subplot(111, projection='3d')\n",
    "ax.legend()\n",
    "my_chain.plot(ik, ax)\n",
    "plt.show()\n",
    "plt.ion()"
   ]
  },
  {
   "cell_type": "markdown",
   "id": "63c5a174-61a5-4d0f-a97d-d14c809ca5a3",
   "metadata": {},
   "source": [
    "Let's now make wrap up some of these calls into a couple of functions. Calling _move(x,y,z)_ will move us to the new coordinates and update the plot.\n",
    "\n",
    "It's worth noting here that when we call _inverse_kinematcs_, we pass in the old position (joint angles) as _initial_position_ so IKPY find the nearest solution to our current position."
   ]
  },
  {
   "cell_type": "code",
   "execution_count": 21,
   "id": "2dc7f2b0-8ce5-4864-9c16-0cb725414074",
   "metadata": {
    "tags": []
   },
   "outputs": [],
   "source": [
    "def doIK():\n",
    "    global ik\n",
    "    old_position= ik.copy()\n",
    "    ik = my_chain.inverse_kinematics(target_position, target_orientation, orientation_mode=\"Z\", initial_position=old_position)\n",
    "\n",
    "def updatePlot():\n",
    "    ax.clear()\n",
    "    my_chain.plot(ik, ax, target=target_position)\n",
    "    plt.xlim(-0.5, 0.5)\n",
    "    plt.ylim(-0.5, 0.5)\n",
    "    ax.set_zlim(0, 0.6)\n",
    "    fig.canvas.draw()\n",
    "    fig.canvas.flush_events()\n",
    "    \n",
    "def move(x,y,z):\n",
    "    global target_position\n",
    "    target_position = [x,y,z]\n",
    "    doIK()\n",
    "    updatePlot()\n",
    "\n",
    "    # sendCommand(ik[1].item(),ik[2].item(),ik[3].item(),ik[4].item(),ik[5].item(),ik[6].item(),1)"
   ]
  },
  {
   "cell_type": "markdown",
   "id": "a8759e2d-cdf6-475a-abcd-97ef1594ae71",
   "metadata": {},
   "source": [
    "We should now be able to move our visualised arm with a call to _move(x,y,z)_"
   ]
  },
  {
   "cell_type": "code",
   "execution_count": 22,
   "id": "c732b6b2-c4c1-4dbd-9495-0d92acb39335",
   "metadata": {},
   "outputs": [
    {
     "data": {
      "image/png": "[encoded data removed]",
      "text/plain": [
       "<Figure size 640x480 with 1 Axes>"
      ]
     },
     "metadata": {},
     "output_type": "display_data"
    }
   ],
   "source": [
    "move(0,0.2,0.3)"
   ]
  },
  {
   "cell_type": "markdown",
   "id": "3edc6cbe-b44f-46c2-b757-ce18edf7c9cf",
   "metadata": {
    "tags": []
   },
   "source": [
    "Let's now connect to our robot arm and create a function to send the angles to it. We just have to uncomment that _sendcommand_ line in the move function to make this work"
   ]
  },
  {
   "cell_type": "code",
   "execution_count": 23,
   "id": "c2c8b386-30ce-47af-9293-11943ddb80e3",
   "metadata": {
    "tags": []
   },
   "outputs": [],
   "source": [
    "ser = serial.Serial('COM3',9600, timeout=1)\n",
    "\n",
    "def sendCommand(a,b,c,d,e,f,move_time):\n",
    "    command = '0{:.2f} 1{:.2f} 2{:.2f} 3{:.2f} 4{:.2f} 5{:.2f} t{:.2f}\\n'.format(math.degrees(a),math.degrees(b),math.degrees(c),math.degrees(d),math.degrees(e),math.degrees(f),move_time)\n",
    "    ser.write(command.encode('ASCII'))"
   ]
  },
  {
   "cell_type": "code",
   "execution_count": null,
   "id": "f9c8b208-25cf-425c-83d9-eae76e4761c3",
   "metadata": {
    "tags": []
   },
   "outputs": [],
   "source": [
    "# we'll call sendCommand once with a move time of 4s so the robot slowly moves to the initial point\n",
    "sendCommand(ik[1].item(),ik[2].item(),ik[3].item(),ik[4].item(),ik[5].item(),ik[6].item(),4)"
   ]
  },
  {
   "cell_type": "markdown",
   "id": "448b8693-da92-4e59-992f-c6a531e63d22",
   "metadata": {},
   "source": [
    "But that's a bit boring, why don't we hook up a game controller and make the joysticks move the visualised arm!"
   ]
  },
  {
   "cell_type": "code",
   "execution_count": 139,
   "id": "8a5eba92-c023-4545-a909-ca1fc955195a",
   "metadata": {
    "tags": []
   },
   "outputs": [
    {
     "data": {
      "application/vnd.jupyter.widget-view+json": {
       "model_id": "d6265194484b4f81903b3f596f6f84a1",
       "version_major": 2,
       "version_minor": 0
      },
      "text/plain": [
       "Controller()"
      ]
     },
     "metadata": {},
     "output_type": "display_data"
    }
   ],
   "source": [
    "import ipywidgets as widgets\n",
    "con = widgets.Controller()\n",
    "display(con)"
   ]
  },
  {
   "cell_type": "markdown",
   "id": "421ffcc4-08ae-43f9-a926-b97db1a34242",
   "metadata": {},
   "source": [
    "We'll need a task running in the background to monitor the controller and call move. Pressing the start button on the controller will end this task."
   ]
  },
  {
   "cell_type": "code",
   "execution_count": null,
   "id": "afb46029-7ab3-4f9b-b555-3cee59c10934",
   "metadata": {
    "collapsed": true,
    "jupyter": {
     "outputs_hidden": true
    },
    "tags": []
   },
   "outputs": [
    {
     "data": {
      "text/plain": [
       "<Task pending name='Task-12' coro=<main() running at C:\\Users\\ro_ir\\AppData\\Local\\Temp\\ipykernel_14128\\3951641839.py:3>>"
      ]
     },
     "execution_count": 140,
     "metadata": {},
     "output_type": "execute_result"
    }
   ],
   "source": [
    "import asyncio\n",
    "\n",
    "async def main():\n",
    "    x=0\n",
    "    y=0.25\n",
    "    z=0.1\n",
    "    while con.buttons[9].value<1:\n",
    "        xp=con.axes[0].value\n",
    "        yp=con.axes[1].value\n",
    "        zp=con.axes[2].value\n",
    "        if(abs(xp)>0.1 or abs(yp)>0.1 or abs(zp)>0.1):\n",
    "            x=x+xp/100\n",
    "            y=y-yp/100\n",
    "            z=z-zp/100\n",
    "            move(x,y,z)\n",
    "        await asyncio.sleep(0.05)\n",
    "\n",
    "\n",
    "loop = asyncio.get_event_loop()\n",
    "loop.create_task(main())"
   ]
  },
  {
   "cell_type": "markdown",
   "id": "b9e40037-e198-4230-9634-39672cf9c1a3",
   "metadata": {},
   "source": [
    "And, when we're done we can close the serial port."
   ]
  },
  {
   "cell_type": "code",
   "execution_count": 156,
   "id": "3d31c11e-8405-43c2-82b6-257b47dc1851",
   "metadata": {},
   "outputs": [],
   "source": [
    "ser.close() "
   ]
  },
  {
   "cell_type": "code",
   "execution_count": null,
   "id": "555b9e87-c2b0-416e-b122-8b6b4304fb4b",
   "metadata": {},
   "outputs": [],
   "source": []
  }
 ],
 "metadata": {
  "kernelspec": {
   "display_name": "venv",
   "language": "python",
   "name": "python3"
  },
  "language_info": {
   "codemirror_mode": {
    "name": "ipython",
    "version": 3
   },
   "file_extension": ".py",
   "mimetype": "text/x-python",
   "name": "python",
   "nbconvert_exporter": "python",
   "pygments_lexer": "ipython3",
   "version": "3.9.15"
  }
 },
 "nbformat": 4,
 "nbformat_minor": 5
}
